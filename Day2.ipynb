{
 "cells": [
  {
   "cell_type": "code",
   "execution_count": 1,
   "metadata": {
    "dotnet_interactive": {
     "language": "csharp"
    },
    "polyglot_notebook": {
     "language": "csharp"
    },
    "vscode": {
     "languageId": "dotnet-interactive.csharp"
    }
   },
   "outputs": [],
   "source": [
    "var data=@\"A Y\n",
    "B X\n",
    "C Z\";"
   ]
  },
  {
   "cell_type": "code",
   "execution_count": 20,
   "metadata": {
    "dotnet_interactive": {
     "language": "csharp"
    },
    "vscode": {
     "languageId": "dotnet-interactive.csharp"
    }
   },
   "outputs": [],
   "source": [
    "using System.Net.Http;\n",
    "using System.IO;\n",
    "var client=new HttpClient();\n",
    "client.DefaultRequestHeaders.Add(\"Cookie\",\"session=53616c7465645f5fc8a667567fccf2e3ec6bfafdbb507d14091f52d24dc00f29271081509df12bdc1f415d47c8a64f51e72b3260be9abba4ffc84a2e037192fe\");\n",
    "var res=await client.GetAsync(\"https://adventofcode.com/2022/day/2/input\");\n",
    "var data=new StreamReader(res.Content.ReadAsStream()).ReadToEnd().TrimEnd('\\n');\n"
   ]
  },
  {
   "cell_type": "code",
   "execution_count": 4,
   "metadata": {
    "dotnet_interactive": {
     "language": "csharp"
    },
    "vscode": {
     "languageId": "dotnet-interactive.csharp"
    }
   },
   "outputs": [
    {
     "data": {
      "text/html": [
       "<table><thead><tr><th><i>index</i></th><th>value</th></tr></thead><tbody><tr><td>0</td><td>A Y</td></tr><tr><td>1</td><td>B X</td></tr><tr><td>2</td><td>C Z</td></tr></tbody></table>"
      ]
     },
     "metadata": {},
     "output_type": "display_data"
    }
   ],
   "source": [
    "using System.Text.RegularExpressions;\n",
    "Regex.Split(data,\"\\r?\\n\",RegexOptions.Multiline)"
   ]
  },
  {
   "cell_type": "code",
   "execution_count": 17,
   "metadata": {
    "dotnet_interactive": {
     "language": "csharp"
    },
    "vscode": {
     "languageId": "dotnet-interactive.csharp"
    }
   },
   "outputs": [
    {
     "data": {
      "text/html": [
       "<div class=\"dni-plaintext\">15</div>"
      ]
     },
     "metadata": {},
     "output_type": "display_data"
    }
   ],
   "source": [
    "using System.Text.RegularExpressions;\n",
    "\n",
    "int score(string s) => s switch {\n",
    "    \"A\" or \"X\"=>1,\n",
    "    \"B\" or \"Y\"=>2,\n",
    "    \"C\" or \"Z\"=>3,\n",
    "    null => 0\n",
    "};\n",
    "\n",
    "(string,string, (string,string)) win(string moi, string lui) => (moi,lui) switch {\n",
    "    (\"A\",\"Z\")=>(moi,null,(moi,lui)),\n",
    "    (\"B\",\"X\")=>(moi,null,(moi,lui)),\n",
    "    (\"C\",\"Y\")=>(moi,null,(moi,lui)),\n",
    "    (\"C\",\"X\")=>(null,lui,(moi,lui)),\n",
    "    (\"A\",\"Y\")=>(null,lui,(moi,lui)),\n",
    "    (\"B\",\"Z\")=>(null,lui,(moi,lui)),\n",
    "    _=>(null,null,(moi,lui))\n",
    "};\n",
    "\n",
    "(int moi,int lui) score((string moi, string lui, (string moi,string lui) played) res) => res switch {\n",
    "    (string moi,null,(_,string lui))=>(score(moi)+6,score(lui)),\n",
    "    (null,string lui,(string moi,_))=>(score(moi),score(lui)+6),\n",
    "    (null,null,(string moi,string lui)) => (score(moi)+3,score(lui)+3),\n",
    "    _=>throw new Exception($\"Should not happen ({res})\")\n",
    "};\n",
    "\n",
    "var res=Regex.Split(data,\"\\r?\\n\",RegexOptions.Multiline).Select(x=>x.Split(\" \")).Select(x=>new {moi=x[0], lui=x[1], score=score(win(x[0],x[1]))});\n",
    "\n",
    "var total=res.Sum(x=>x.score.moi);\n",
    "total"
   ]
  },
  {
   "cell_type": "code",
   "execution_count": 21,
   "metadata": {
    "dotnet_interactive": {
     "language": "csharp"
    },
    "vscode": {
     "languageId": "dotnet-interactive.csharp"
    }
   },
   "outputs": [
    {
     "data": {
      "text/html": [
       "<div class=\"dni-plaintext\">13448</div>"
      ]
     },
     "metadata": {},
     "output_type": "display_data"
    }
   ],
   "source": [
    "using System.Text.RegularExpressions;\n",
    "\n",
    "int score(string s) => s switch {\n",
    "    \"A\" or \"X\"=>1,\n",
    "    \"B\" or \"Y\"=>2,\n",
    "    \"C\" or \"Z\"=>3,\n",
    "    null => 0\n",
    "};\n",
    "// A > C > B > A\n",
    "(string,string, (string,string)) win(string lui, string outcome) => (lui, outcome) switch {\n",
    "    (\"A\",\"Z\")=>(\"B\",null,(\"B\",lui)),\n",
    "    (\"B\",\"Z\")=>(\"C\",null,(\"C\",lui)),\n",
    "    (\"C\",\"Z\")=>(\"A\",null,(\"A\",lui)),\n",
    "    (string any,\"Y\")=>(null,null,(any,lui)),\n",
    "    (\"A\",\"X\")=>(null,\"C\",(\"C\",lui)),\n",
    "    (\"B\",\"X\")=>(null,\"A\",(\"A\",lui)),\n",
    "    (\"C\",\"X\")=>(null,\"B\",(\"B\",lui)),\n",
    "    _=>throw new Exception($\"Should not happen ({res})\")\n",
    "};\n",
    "\n",
    "(int moi,int lui) score((string moi, string lui, (string moi,string lui) played) res) => res switch {\n",
    "    (string moi,null,(_,string lui))=>(score(moi)+6,score(lui)),\n",
    "    (null,string lui,(string moi,_))=>(score(moi),score(lui)+6),\n",
    "    (null,null,(string moi,string lui)) => (score(moi)+3,score(lui)+3),\n",
    "    _=>throw new Exception($\"Should not happen ({res})\")\n",
    "};\n",
    "\n",
    "var res=Regex.Split(data,\"\\r?\\n\",RegexOptions.Multiline).Select(x=>x.Split(\" \")).Select(x=>new {moi=x[0], lui=x[1], p=win(x[0],x[1]),score=score(win(x[0],x[1]))});\n",
    "\n",
    "var total=res.Sum(x=>x.score.moi);\n",
    "total"
   ]
  }
 ],
 "metadata": {
  "kernelspec": {
   "display_name": ".NET (C#)",
   "language": "C#",
   "name": ".net-csharp"
  },
  "language_info": {
   "name": "C#"
  }
 },
 "nbformat": 4,
 "nbformat_minor": 2
}
