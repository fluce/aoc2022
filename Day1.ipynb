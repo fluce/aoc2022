{
 "cells": [
  {
   "cell_type": "code",
   "execution_count": 2,
   "metadata": {
    "dotnet_interactive": {
     "language": "csharp"
    },
    "polyglot_notebook": {
     "language": "csharp"
    },
    "vscode": {
     "languageId": "dotnet-interactive.csharp"
    }
   },
   "outputs": [
    {
     "data": {
      "text/plain": [
       "1000\r\n",
       "2000\r\n",
       "3000\r\n",
       "\r\n",
       "4000\r\n",
       "\r\n",
       "5000\r\n",
       "6000\r\n",
       "\r\n",
       "7000\r\n",
       "8000\r\n",
       "9000\r\n",
       "\r\n",
       "10000"
      ]
     },
     "metadata": {},
     "output_type": "display_data"
    }
   ],
   "source": [
    "var data=@\"1000\n",
    "2000\n",
    "3000\n",
    "\n",
    "4000\n",
    "\n",
    "5000\n",
    "6000\n",
    "\n",
    "7000\n",
    "8000\n",
    "9000\n",
    "\n",
    "10000\";"
   ]
  },
  {
   "cell_type": "code",
   "execution_count": 17,
   "metadata": {
    "dotnet_interactive": {
     "language": "csharp"
    },
    "tags": [],
    "vscode": {
     "languageId": "dotnet-interactive.csharp"
    }
   },
   "outputs": [],
   "source": [
    "using System.Net.Http;\n",
    "using System.IO;\n",
    "var client=new HttpClient();\n",
    "client.DefaultRequestHeaders.Add(\"Cookie\",\"session=53616c7465645f5fc8a667567fccf2e3ec6bfafdbb507d14091f52d24dc00f29271081509df12bdc1f415d47c8a64f51e72b3260be9abba4ffc84a2e037192fe\");\n",
    "var res=await client.GetAsync(\"https://adventofcode.com/2022/day/1/input\");\n",
    "var data=new StreamReader(res.Content.ReadAsStream()).ReadToEnd();"
   ]
  },
  {
   "cell_type": "code",
   "execution_count": null,
   "metadata": {
    "dotnet_interactive": {
     "language": "csharp"
    },
    "vscode": {
     "languageId": "dotnet-interactive.csharp"
    }
   },
   "outputs": [],
   "source": [
    "data"
   ]
  },
  {
   "cell_type": "code",
   "execution_count": 44,
   "metadata": {
    "dotnet_interactive": {
     "language": "csharp"
    },
    "vscode": {
     "languageId": "dotnet-interactive.csharp"
    }
   },
   "outputs": [
    {
     "data": {
      "text/html": [
       "<div class=\"dni-plaintext\">68802</div>"
      ]
     },
     "metadata": {},
     "output_type": "display_data"
    }
   ],
   "source": [
    "using System.Text.RegularExpressions;\n",
    "Regex.Split(data,\"\\r?\\n\\r?\\n\",RegexOptions.Multiline).Select(x=>Regex.Split(x,\"\\r?\\n\",RegexOptions.Multiline).Where(x=>x.Length>0).Select(x=>int.Parse(x)).Sum()).Max()"
   ]
  },
  {
   "cell_type": "code",
   "execution_count": 45,
   "metadata": {
    "dotnet_interactive": {
     "language": "csharp"
    },
    "vscode": {
     "languageId": "dotnet-interactive.csharp"
    }
   },
   "outputs": [
    {
     "data": {
      "text/html": [
       "<div class=\"dni-plaintext\">205370</div>"
      ]
     },
     "metadata": {},
     "output_type": "display_data"
    }
   ],
   "source": [
    "Regex.Split(data,\"\\r?\\n\\r?\\n\",RegexOptions.Multiline).Select(x=>Regex.Split(x,\"\\r?\\n\",RegexOptions.Multiline).Where(x=>x.Length>0).Select(x=>int.Parse(x)).Sum()).OrderByDescending(x=>x).Take(3).Sum()"
   ]
  }
 ],
 "metadata": {
  "kernelspec": {
   "display_name": ".NET (C#)",
   "language": "C#",
   "name": ".net-csharp"
  },
  "language_info": {
   "name": "C#"
  }
 },
 "nbformat": 4,
 "nbformat_minor": 2
}
